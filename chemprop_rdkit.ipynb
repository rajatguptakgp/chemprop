{
 "cells": [
  {
   "cell_type": "markdown",
   "metadata": {},
   "source": [
    "# **`TRAINING`**"
   ]
  },
  {
   "cell_type": "code",
   "execution_count": null,
   "metadata": {},
   "outputs": [],
   "source": [
    "run train.py --data_path pseudomonas/train_cv/fold_0/train.csv --separate_val_path pseudomonas/train_cv/fold_0/dev.csv --separate_test_path pseudomonas/train_cv/fold_0/test.csv --dataset_type classification --save_dir model_checkoints/rdkit --features_generator rdkit_2d --quiet"
   ]
  },
  {
   "cell_type": "markdown",
   "metadata": {},
   "source": [
    "# **`PREDICTION`**"
   ]
  },
  {
   "cell_type": "markdown",
   "metadata": {},
   "source": [
    "## **`Training`**"
   ]
  },
  {
   "cell_type": "code",
   "execution_count": null,
   "metadata": {},
   "outputs": [],
   "source": [
    "run predict.py --test_path pseudomonas/train_cv/fold_0/train.csv --preds_path model_checkoints/rdkit/train.csv --checkpoint_dir model_checkoints/rdkit --features_generator rdkit_2d"
   ]
  },
  {
   "cell_type": "markdown",
   "metadata": {},
   "source": [
    "## **`Validation`**"
   ]
  },
  {
   "cell_type": "code",
   "execution_count": null,
   "metadata": {},
   "outputs": [],
   "source": [
    "run predict.py --test_path pseudomonas/train_cv/fold_0/dev.csv --preds_path model_checkoints/rdkit/dev.csv --checkpoint_dir model_checkoints/rdkit --features_generator rdkit_2d"
   ]
  },
  {
   "cell_type": "markdown",
   "metadata": {},
   "source": [
    "## **`Testing`**"
   ]
  },
  {
   "cell_type": "code",
   "execution_count": null,
   "metadata": {},
   "outputs": [],
   "source": [
    "run predict.py --test_path pseudomonas/train_cv/fold_0/test.csv --preds_path model_checkoints/rdkit/test.csv --checkpoint_dir model_checkoints/rdkit --features_generator rdkit_2d"
   ]
  },
  {
   "cell_type": "markdown",
   "metadata": {},
   "source": [
    "# **`CALCULATE AUC`**"
   ]
  },
  {
   "cell_type": "code",
   "execution_count": 5,
   "metadata": {},
   "outputs": [
    {
     "name": "stdout",
     "output_type": "stream",
     "text": [
      "ROC-AUC = 1.0\n",
      "PRC-AUC = 0.9999999999999998\n"
     ]
    }
   ],
   "source": [
    "run evaluate_auc.py --true_path pseudomonas/train_cv/fold_0/train.csv --pred_path model_checkoints/rdkit/train.csv"
   ]
  },
  {
   "cell_type": "code",
   "execution_count": 6,
   "metadata": {},
   "outputs": [
    {
     "name": "stdout",
     "output_type": "stream",
     "text": [
      "ROC-AUC = 0.9205927051671733\n",
      "PRC-AUC = 0.8311919802342576\n"
     ]
    }
   ],
   "source": [
    "run evaluate_auc.py --true_path pseudomonas/train_cv/fold_0/dev.csv --pred_path model_checkoints/rdkit/dev.csv"
   ]
  },
  {
   "cell_type": "code",
   "execution_count": 7,
   "metadata": {},
   "outputs": [
    {
     "name": "stdout",
     "output_type": "stream",
     "text": [
      "ROC-AUC = 0.8204081632653062\n",
      "PRC-AUC = 0.6022988505747127\n"
     ]
    }
   ],
   "source": [
    "run evaluate_auc.py --true_path pseudomonas/train_cv/fold_0/test.csv --pred_path model_checkoints/rdkit/test.csv"
   ]
  },
  {
   "cell_type": "markdown",
   "metadata": {
    "collapsed": true
   },
   "source": [
    "# **`SUBMISSION`**"
   ]
  },
  {
   "cell_type": "code",
   "execution_count": null,
   "metadata": {},
   "outputs": [],
   "source": [
    "run predict.py --test_path pseudomonas/test.csv --preds_path model_checkoints/rdkit/submission.csv --checkpoint_dir model_checkoints/rdkit --features_generator rdkit_2d"
   ]
  },
  {
   "cell_type": "code",
   "execution_count": null,
   "metadata": {},
   "outputs": [],
   "source": []
  }
 ],
 "metadata": {
  "kernelspec": {
   "display_name": "RDKit",
   "language": "python",
   "name": "my-rdkit-env"
  },
  "language_info": {
   "codemirror_mode": {
    "name": "ipython",
    "version": 3
   },
   "file_extension": ".py",
   "mimetype": "text/x-python",
   "name": "python",
   "nbconvert_exporter": "python",
   "pygments_lexer": "ipython3",
   "version": "3.7.7"
  }
 },
 "nbformat": 4,
 "nbformat_minor": 4
}
